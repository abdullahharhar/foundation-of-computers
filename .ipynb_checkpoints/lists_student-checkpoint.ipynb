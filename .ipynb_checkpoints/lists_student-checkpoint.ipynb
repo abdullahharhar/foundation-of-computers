{
 "cells": [
  {
   "cell_type": "markdown",
   "id": "fdcf45d7",
   "metadata": {},
   "source": [
    "# First operations with lists"
   ]
  },
  {
   "cell_type": "code",
   "execution_count": null,
   "id": "203d7544",
   "metadata": {},
   "outputs": [],
   "source": [
    "# list creation\n",
    "letters = [\"a\", \"b\", \"c\", \"d\", \"d\"]"
   ]
  },
  {
   "cell_type": "code",
   "execution_count": null,
   "id": "6656a83c-0a5b-468a-9a8f-daca14185a04",
   "metadata": {},
   "outputs": [],
   "source": []
  },
  {
   "cell_type": "code",
   "execution_count": null,
   "id": "3a96f0fa-1f14-4487-98b3-548858bd8f47",
   "metadata": {},
   "outputs": [],
   "source": []
  },
  {
   "cell_type": "code",
   "execution_count": null,
   "id": "c0f6dcf4",
   "metadata": {},
   "outputs": [],
   "source": [
    "# add some elements to the list\n",
    "letters.extend([\"g\", \"h\"])\n"
   ]
  },
  {
   "cell_type": "code",
   "execution_count": null,
   "id": "85663f88",
   "metadata": {},
   "outputs": [],
   "source": [
    "# return the length of a list\n",
    "len(letters)"
   ]
  },
  {
   "cell_type": "code",
   "execution_count": null,
   "id": "42bac045",
   "metadata": {},
   "outputs": [],
   "source": [
    "# indexing\n",
    "letters[]"
   ]
  },
  {
   "cell_type": "code",
   "execution_count": null,
   "id": "ee182278",
   "metadata": {},
   "outputs": [],
   "source": [
    "letters[-1]"
   ]
  },
  {
   "cell_type": "code",
   "execution_count": null,
   "id": "89ccd0a1",
   "metadata": {},
   "outputs": [],
   "source": []
  },
  {
   "cell_type": "code",
   "execution_count": null,
   "id": "83a0458a",
   "metadata": {},
   "outputs": [],
   "source": [
    "# slicing: \n",
    "\n",
    "\n",
    "# What do you notice?"
   ]
  },
  {
   "cell_type": "code",
   "execution_count": null,
   "id": "fb74c0d5",
   "metadata": {},
   "outputs": [],
   "source": []
  },
  {
   "cell_type": "code",
   "execution_count": null,
   "id": "7bd9bbb8",
   "metadata": {},
   "outputs": [],
   "source": []
  },
  {
   "cell_type": "code",
   "execution_count": null,
   "id": "6ff37be9",
   "metadata": {},
   "outputs": [],
   "source": []
  },
  {
   "cell_type": "code",
   "execution_count": null,
   "id": "b3791509",
   "metadata": {},
   "outputs": [],
   "source": []
  },
  {
   "cell_type": "code",
   "execution_count": 1,
   "id": "661bf61b",
   "metadata": {},
   "outputs": [],
   "source": [
    "# List can store values of different types\n",
    "namecounts= [\"Abdullah\", 123, \"Ayesha\", 456]"
   ]
  },
  {
   "cell_type": "code",
   "execution_count": 2,
   "id": "6b7b6edb",
   "metadata": {},
   "outputs": [
    {
     "ename": "NameError",
     "evalue": "name 'namecounts' is not defined",
     "output_type": "error",
     "traceback": [
      "\u001b[0;31m---------------------------------------------------------------------------\u001b[0m",
      "\u001b[0;31mNameError\u001b[0m                                 Traceback (most recent call last)",
      "Cell \u001b[0;32mIn[2], line 3\u001b[0m\n\u001b[1;32m      1\u001b[0m \u001b[38;5;66;03m# we can add elements\u001b[39;00m\n\u001b[1;32m      2\u001b[0m names\u001b[38;5;241m.\u001b[39mappend(\u001b[38;5;124m\"\u001b[39m\u001b[38;5;124mReza\u001b[39m\u001b[38;5;124m\"\u001b[39m)\n\u001b[0;32m----> 3\u001b[0m \u001b[38;5;28mprint\u001b[39m(namecounts)\n",
      "\u001b[0;31mNameError\u001b[0m: name 'namecounts' is not defined"
     ]
    }
   ],
   "source": [
    "# we can add elements\n",
    "namecounts.append(\"Basel\")\n",
    "print(namecounts)"
   ]
  },
  {
   "cell_type": "code",
   "execution_count": null,
   "id": "db182150",
   "metadata": {},
   "outputs": [],
   "source": [
    "# and we can remove elements\n",
    "namecounts.remove(\"...\")\n",
    "print(namecounts)"
   ]
  },
  {
   "cell_type": "code",
   "execution_count": null,
   "id": "526eb5fb",
   "metadata": {},
   "outputs": [],
   "source": [
    "# we can also remove the last element\n",
    "namecounts.pop()\n",
    "print(namecounts)"
   ]
  },
  {
   "cell_type": "markdown",
   "id": "ef9bd271",
   "metadata": {},
   "source": [
    "**Note: all three methods pop(), append() and remove() modify the list in-place: this means that the original list is overwritten and replaced by the new one after being modified by the method**"
   ]
  },
  {
   "cell_type": "markdown",
   "id": "9d560bf1",
   "metadata": {},
   "source": [
    "## Manipulating lists"
   ]
  },
  {
   "cell_type": "code",
   "execution_count": null,
   "id": "0595b70c",
   "metadata": {},
   "outputs": [],
   "source": [
    "# searches for and counts the number of an element in a list\n",
    "letters.count(\"d\")"
   ]
  },
  {
   "cell_type": "code",
   "execution_count": null,
   "id": "9e213265",
   "metadata": {},
   "outputs": [],
   "source": []
  },
  {
   "cell_type": "code",
   "execution_count": null,
   "id": "16ae3d3d-c115-4d52-96f8-97458583b30a",
   "metadata": {},
   "outputs": [],
   "source": []
  }
 ],
 "metadata": {
  "kernelspec": {
   "display_name": "Python 3 (ipykernel)",
   "language": "python",
   "name": "python3"
  },
  "language_info": {
   "codemirror_mode": {
    "name": "ipython",
    "version": 3
   },
   "file_extension": ".py",
   "mimetype": "text/x-python",
   "name": "python",
   "nbconvert_exporter": "python",
   "pygments_lexer": "ipython3",
   "version": "3.11.5"
  }
 },
 "nbformat": 4,
 "nbformat_minor": 5
}
