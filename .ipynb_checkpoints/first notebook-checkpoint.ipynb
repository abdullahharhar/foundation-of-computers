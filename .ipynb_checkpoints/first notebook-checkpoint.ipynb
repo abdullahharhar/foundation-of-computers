{
 "cells": [
  {
   "cell_type": "markdown",
   "id": "14d0abc5-3ff1-4084-88fb-fee1d9d5136f",
   "metadata": {},
   "source": [
    "# first project "
   ]
  },
  {
   "cell_type": "code",
   "execution_count": 20,
   "id": "5e47b80c-b81c-4a82-aa3c-bd0290bd5059",
   "metadata": {},
   "outputs": [
    {
     "name": "stdout",
     "output_type": "stream",
     "text": [
      "hello world\n"
     ]
    }
   ],
   "source": [
    "print(\"hello world\") #print then brackets then ' to print anything"
   ]
  },
  {
   "cell_type": "code",
   "execution_count": 14,
   "id": "a6dbce82-c76e-4042-8471-a0ba07a574e3",
   "metadata": {},
   "outputs": [
    {
     "name": "stdout",
     "output_type": "stream",
     "text": [
      "abdullah\n"
     ]
    }
   ],
   "source": [
    "print('abdullah')"
   ]
  },
  {
   "cell_type": "code",
   "execution_count": 21,
   "id": "fcf0fc0f-a1b5-402e-afa8-a7714773f8dc",
   "metadata": {},
   "outputs": [
    {
     "name": "stdout",
     "output_type": "stream",
     "text": [
      "3\n"
     ]
    }
   ],
   "source": [
    "a=3 #give a number for a variable\n",
    "print(a)"
   ]
  },
  {
   "cell_type": "code",
   "execution_count": 16,
   "id": "f4c15d4e-8426-4d08-9633-b0b5fb3fdb10",
   "metadata": {},
   "outputs": [
    {
     "name": "stdout",
     "output_type": "stream",
     "text": [
      "hilal\n"
     ]
    }
   ],
   "source": [
    "b='hilal'\n",
    "print(b)"
   ]
  },
  {
   "cell_type": "code",
   "execution_count": 19,
   "id": "9464f246-beef-4689-a73a-884ffcd59828",
   "metadata": {},
   "outputs": [
    {
     "data": {
      "text/plain": [
       "str"
      ]
     },
     "execution_count": 19,
     "metadata": {},
     "output_type": "execute_result"
    }
   ],
   "source": [
    "type(b) #here with type function i am checking the data type of b"
   ]
  },
  {
   "cell_type": "code",
   "execution_count": 18,
   "id": "4640e14f-1529-4522-95f5-6c8846ce8627",
   "metadata": {},
   "outputs": [
    {
     "data": {
      "text/plain": [
       "int"
      ]
     },
     "execution_count": 18,
     "metadata": {},
     "output_type": "execute_result"
    }
   ],
   "source": [
    "type(a)"
   ]
  },
  {
   "cell_type": "code",
   "execution_count": null,
   "id": "f1f8e34f-ec70-4001-bc81-ccdedf406f52",
   "metadata": {},
   "outputs": [],
   "source": []
  }
 ],
 "metadata": {
  "kernelspec": {
   "display_name": "Python 3 (ipykernel)",
   "language": "python",
   "name": "python3"
  },
  "language_info": {
   "codemirror_mode": {
    "name": "ipython",
    "version": 3
   },
   "file_extension": ".py",
   "mimetype": "text/x-python",
   "name": "python",
   "nbconvert_exporter": "python",
   "pygments_lexer": "ipython3",
   "version": "3.12.2"
  }
 },
 "nbformat": 4,
 "nbformat_minor": 5
}
